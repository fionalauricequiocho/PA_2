{
 "cells": [
  {
   "cell_type": "code",
   "execution_count": 2,
   "id": "33f6ba98-e435-4666-beb5-4e9c717ba686",
   "metadata": {},
   "outputs": [],
   "source": [
    "import numpy as np"
   ]
  },
  {
   "cell_type": "code",
   "execution_count": 3,
   "id": "7c12e84b-4436-49a8-ad4a-09ad4efb40b4",
   "metadata": {},
   "outputs": [
    {
     "data": {
      "text/plain": [
       "array([[0.10263961, 0.82081775, 0.16908616, 0.72147828, 0.40558687],\n",
       "       [0.70956271, 0.76334858, 0.16322083, 0.40651112, 0.08831335],\n",
       "       [0.09889229, 0.12714411, 0.8781858 , 0.94980709, 0.43492117],\n",
       "       [0.25662271, 0.9067785 , 0.03133433, 0.75938818, 0.97075725],\n",
       "       [0.49264963, 0.4959751 , 0.2579738 , 0.83198365, 0.44877945]])"
      ]
     },
     "execution_count": 3,
     "metadata": {},
     "output_type": "execute_result"
    }
   ],
   "source": [
    "X = np.random.random((5, 5))\n",
    "X"
   ]
  },
  {
   "cell_type": "code",
   "execution_count": 4,
   "id": "d53f8ea4-8afe-4b0c-94ef-5e5d71919916",
   "metadata": {},
   "outputs": [
    {
     "data": {
      "text/plain": [
       "np.float64(0.4916703328238897)"
      ]
     },
     "execution_count": 4,
     "metadata": {},
     "output_type": "execute_result"
    }
   ],
   "source": [
    "mean_X = X.mean()\n",
    "mean_X"
   ]
  },
  {
   "cell_type": "code",
   "execution_count": 5,
   "id": "40a20f0f-846a-4735-80a7-ad681b24bdb0",
   "metadata": {},
   "outputs": [
    {
     "data": {
      "text/plain": [
       "np.float64(0.3089137418439911)"
      ]
     },
     "execution_count": 5,
     "metadata": {},
     "output_type": "execute_result"
    }
   ],
   "source": [
    "std_X = X.std()\n",
    "std_X"
   ]
  },
  {
   "cell_type": "code",
   "execution_count": 6,
   "id": "a82f09c6-6baf-4344-b92c-2fea594ad429",
   "metadata": {},
   "outputs": [
    {
     "data": {
      "text/plain": [
       "array([[-1.25935065,  1.06549942, -1.04425323,  0.7439227 , -0.27866506],\n",
       "       [ 0.70535023,  0.87946314, -1.06324017, -0.27567312, -1.30572691],\n",
       "       [-1.27148128, -1.18002591,  1.25120839,  1.48305722, -0.18370554],\n",
       "       [-0.76088434,  1.34376726, -1.4901765 ,  0.86664273,  1.55087603],\n",
       "       [ 0.00317013,  0.01393519, -0.75651066,  1.10164513, -0.13884421]])"
      ]
     },
     "execution_count": 6,
     "metadata": {},
     "output_type": "execute_result"
    }
   ],
   "source": [
    "X_normalized = (X - mean_X) / std_X\n",
    "X_normalized"
   ]
  },
  {
   "cell_type": "code",
   "execution_count": 7,
   "id": "9335c75e-5ceb-44da-9665-8a40675fe6d1",
   "metadata": {},
   "outputs": [],
   "source": [
    "np.save(\"X_normalized.npy\", X_normalized)"
   ]
  }
 ],
 "metadata": {
  "kernelspec": {
   "display_name": "Python [conda env:base] *",
   "language": "python",
   "name": "conda-base-py"
  },
  "language_info": {
   "codemirror_mode": {
    "name": "ipython",
    "version": 3
   },
   "file_extension": ".py",
   "mimetype": "text/x-python",
   "name": "python",
   "nbconvert_exporter": "python",
   "pygments_lexer": "ipython3",
   "version": "3.13.5"
  }
 },
 "nbformat": 4,
 "nbformat_minor": 5
}
